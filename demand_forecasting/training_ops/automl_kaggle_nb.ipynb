{
  "cells": [
    {
      "cell_type": "code",
      "source": [
        "from training_ops import automl_kaggle "
      ],
      "outputs": [
        {
          "output_type": "stream",
          "name": "stdout",
          "text": "SDK version: 1.36.0\n"
        }
      ],
      "execution_count": 1,
      "metadata": {
        "jupyter": {
          "source_hidden": false,
          "outputs_hidden": false
        },
        "nteract": {
          "transient": {
            "deleting": false
          }
        },
        "gather": {
          "logged": 1643012678529
        }
      }
    },
    {
      "cell_type": "code",
      "source": [
        "# connect to workspace and compute resources\r\n",
        "ws, ch = automl_kaggle.connect_to_azure_ml()"
      ],
      "outputs": [
        {
          "output_type": "stream",
          "name": "stdout",
          "text": "Found workspace mlw-mlops-forecasting \n\tat location westeurope\n\t with the id:bd63b639-8836-4d1b-823b-17738975655b\nfound existing compute target.\nAzure Machine Learning Compute attached\n"
        }
      ],
      "execution_count": 2,
      "metadata": {
        "jupyter": {
          "source_hidden": false,
          "outputs_hidden": false
        },
        "nteract": {
          "transient": {
            "deleting": false
          }
        },
        "gather": {
          "logged": 1643012709174
        }
      }
    },
    {
      "cell_type": "code",
      "source": [
        "# get dataset \r\n",
        "data_train_df, data_test_df  = automl_kaggle.get_latest_dataset(ws)"
      ],
      "outputs": [],
      "execution_count": 3,
      "metadata": {
        "jupyter": {
          "source_hidden": false,
          "outputs_hidden": false
        },
        "nteract": {
          "transient": {
            "deleting": false
          }
        },
        "gather": {
          "logged": 1643012747370
        }
      }
    },
    {
      "cell_type": "code",
      "source": [
        "# define automl config \r\n",
        "automl_config = automl_kaggle.define_automl_config(data_train_df, data_test_df , ch)\r\n",
        "\r\n",
        "# Create experiment (get existing experiment ??)  -> ToDo\r\n",
        "experiment = automl_kaggle.create_experiment(ws) "
      ],
      "outputs": [],
      "execution_count": 4,
      "metadata": {
        "jupyter": {
          "source_hidden": false,
          "outputs_hidden": false
        },
        "nteract": {
          "transient": {
            "deleting": false
          }
        },
        "gather": {
          "logged": 1643013048495
        }
      }
    },
    {
      "cell_type": "code",
      "source": [
        "# Experiment run \r\n",
        "exp_run = experiment.submit(automl_config, show_output = False)  \r\n",
        "exp_run\r\n",
        "exp_run.wait_for_completion()"
      ],
      "outputs": [
        {
          "output_type": "stream",
          "name": "stdout",
          "text": "Submitting remote run.\n"
        },
        {
          "output_type": "display_data",
          "data": {
            "text/plain": "<IPython.core.display.HTML object>",
            "text/html": "<table style=\"width:100%\"><tr><th>Experiment</th><th>Id</th><th>Type</th><th>Status</th><th>Details Page</th><th>Docs Page</th></tr><tr><td>automl-kaggle-exp1</td><td>AutoML_2077c0f4-32af-4b0f-8dd4-f47573c8186d</td><td>automl</td><td>NotStarted</td><td><a href=\"https://ml.azure.com/runs/AutoML_2077c0f4-32af-4b0f-8dd4-f47573c8186d?wsid=/subscriptions/5e54cdea-5cda-46ba-af31-b1c1b15430e6/resourcegroups/mle-demos/workspaces/mlw-mlops-forecasting&amp;tid=ec0c3cd0-5bd6-4c13-87c2-f45543cab0e1\" target=\"_blank\" rel=\"noopener\">Link to Azure Machine Learning studio</a></td><td><a href=\"https://docs.microsoft.com/en-us/python/api/overview/azure/ml/intro?view=azure-ml-py\" target=\"_blank\" rel=\"noopener\">Link to Documentation</a></td></tr></table>"
          },
          "metadata": {}
        },
        {
          "output_type": "execute_result",
          "execution_count": 5,
          "data": {
            "text/plain": "{'runId': 'AutoML_2077c0f4-32af-4b0f-8dd4-f47573c8186d',\n 'target': 'cpu8c-ram28gb-lk',\n 'status': 'Completed',\n 'startTimeUtc': '2022-01-24T08:32:22.397516Z',\n 'endTimeUtc': '2022-01-24T08:47:10.125126Z',\n 'services': {},\n 'warnings': [{'source': 'JasmineService',\n   'message': 'No scores improved over last 20 iterations, so experiment stopped early. This early stopping behavior can be disabled by setting enable_early_stopping = False in AutoMLConfig for notebook/python SDK runs.'}],\n 'properties': {'num_iterations': '1000',\n  'training_type': 'TrainFull',\n  'acquisition_function': 'EI',\n  'primary_metric': 'normalized_root_mean_squared_error',\n  'train_split': '0',\n  'acquisition_parameter': '0',\n  'num_cross_validation': '3',\n  'target': 'cpu8c-ram28gb-lk',\n  'AMLSettingsJsonString': '{\"path\":null,\"name\":\"automl-kaggle-exp1\",\"subscription_id\":\"5e54cdea-5cda-46ba-af31-b1c1b15430e6\",\"resource_group\":\"mle-demos\",\"workspace_name\":\"mlw-mlops-forecasting\",\"region\":\"westeurope\",\"compute_target\":\"cpu8c-ram28gb-lk\",\"spark_service\":null,\"azure_service\":\"remote\",\"many_models\":false,\"pipeline_fetch_max_batch_size\":1,\"enable_batch_run\":true,\"enable_run_restructure\":false,\"start_auxiliary_runs_before_parent_complete\":false,\"enable_code_generation\":false,\"iterations\":1000,\"primary_metric\":\"normalized_root_mean_squared_error\",\"task_type\":\"regression\",\"positive_label\":null,\"data_script\":null,\"test_size\":0.0,\"test_include_predictions_only\":false,\"validation_size\":0.0,\"n_cross_validations\":3,\"y_min\":null,\"y_max\":null,\"num_classes\":null,\"featurization\":\"auto\",\"_ignore_package_version_incompatibilities\":false,\"is_timeseries\":true,\"max_cores_per_iteration\":1,\"max_concurrent_iterations\":1,\"iteration_timeout_minutes\":null,\"mem_in_mb\":null,\"enforce_time_on_windows\":false,\"experiment_timeout_minutes\":60,\"experiment_exit_score\":null,\"whitelist_models\":[\"Naive\"],\"blacklist_algos\":[\"TensorFlowDNN\",\"TensorFlowLinearRegressor\"],\"supported_models\":[\"GradientBoosting\",\"ExponentialSmoothing\",\"TCNForecaster\",\"XGBoostRegressor\",\"LightGBM\",\"KNN\",\"SeasonalNaive\",\"Arimax\",\"DecisionTree\",\"ExtremeRandomTrees\",\"Average\",\"AutoArima\",\"LassoLars\",\"SGD\",\"SeasonalAverage\",\"RandomForest\",\"Prophet\",\"TensorFlowDNN\",\"Naive\",\"TensorFlowLinearRegressor\",\"ElasticNet\"],\"private_models\":[\"TabnetRegressor\"],\"auto_blacklist\":true,\"blacklist_samples_reached\":false,\"exclude_nan_labels\":true,\"verbosity\":20,\"_debug_log\":\"azureml_automl.log\",\"show_warnings\":false,\"model_explainability\":true,\"service_url\":null,\"sdk_url\":null,\"sdk_packages\":null,\"enable_onnx_compatible_models\":false,\"enable_split_onnx_featurizer_estimator_models\":false,\"vm_type\":\"STANDARD_D4_V2\",\"telemetry_verbosity\":20,\"send_telemetry\":true,\"enable_dnn\":false,\"scenario\":\"SDK-1.13.0\",\"environment_label\":null,\"save_mlflow\":false,\"enable_categorical_indicators\":false,\"force_text_dnn\":false,\"enable_feature_sweeping\":false,\"time_column_name\":\"date\",\"grain_column_names\":null,\"drop_column_names\":[],\"max_horizon\":30,\"dropna\":false,\"overwrite_columns\":true,\"transform_dictionary\":{\"min\":\"_automl_target_col\",\"max\":\"_automl_target_col\",\"mean\":\"_automl_target_col\"},\"window_size\":null,\"country_or_region\":null,\"lags\":null,\"feature_lags\":null,\"seasonality\":\"auto\",\"use_stl\":null,\"short_series_handling\":true,\"freq\":\"D\",\"short_series_handling_configuration\":\"auto\",\"target_aggregation_function\":null,\"cv_step_size\":null,\"enable_early_stopping\":true,\"early_stopping_n_iters\":10,\"arguments\":null,\"dataset_id\":null,\"hyperdrive_config\":null,\"validation_dataset_id\":null,\"run_source\":null,\"metrics\":null,\"enable_metric_confidence\":false,\"enable_ensembling\":true,\"enable_stack_ensembling\":false,\"ensemble_iterations\":15,\"enable_tf\":false,\"enable_subsampling\":false,\"subsample_seed\":null,\"enable_nimbusml\":false,\"enable_streaming\":false,\"force_streaming\":false,\"track_child_runs\":true,\"allowed_private_models\":[],\"label_column_name\":\"sales\",\"weight_column_name\":null,\"cv_split_column_names\":null,\"enable_local_managed\":false,\"_local_managed_run_id\":null,\"cost_mode\":1,\"lag_length\":0,\"metric_operation\":\"minimize\",\"preprocess\":true}',\n  'DataPrepJsonString': '{\\\\\"training_data\\\\\": {\\\\\"datasetId\\\\\": \\\\\"d83eab90-e2f4-4a14-bf0b-8ee79fb35fa6\\\\\"}, \\\\\"datasets\\\\\": 0}',\n  'EnableSubsampling': 'False',\n  'runTemplate': 'AutoML',\n  'azureml.runsource': 'automl',\n  'display_task_type': 'forecasting',\n  'dependencies_versions': '{\"azureml-widgets\": \"1.36.0\", \"azureml-train\": \"1.36.0\", \"azureml-train-restclients-hyperdrive\": \"1.36.0\", \"azureml-train-core\": \"1.36.0\", \"azureml-train-automl\": \"1.36.0\", \"azureml-train-automl-runtime\": \"1.36.0\", \"azureml-train-automl-client\": \"1.36.0\", \"azureml-tensorboard\": \"1.36.0\", \"azureml-telemetry\": \"1.36.0\", \"azureml-sdk\": \"1.36.0\", \"azureml-samples\": \"0+unknown\", \"azureml-responsibleai\": \"1.36.0\", \"azureml-pipeline\": \"1.36.0\", \"azureml-pipeline-steps\": \"1.36.0\", \"azureml-pipeline-core\": \"1.36.0\", \"azureml-opendatasets\": \"1.36.0\", \"azureml-mlflow\": \"1.36.0\", \"azureml-interpret\": \"1.36.0\", \"azureml-inference-server-http\": \"0.4.1\", \"azureml-explain-model\": \"1.36.0\", \"azureml-defaults\": \"1.36.0\", \"azureml-dataset-runtime\": \"1.36.0\", \"azureml-dataprep\": \"2.24.4\", \"azureml-dataprep-rslex\": \"2.0.3\", \"azureml-dataprep-native\": \"38.0.0\", \"azureml-datadrift\": \"1.36.0\", \"azureml-core\": \"1.36.0.post2\", \"azureml-contrib-services\": \"1.36.0\", \"azureml-contrib-server\": \"1.36.0\", \"azureml-contrib-reinforcementlearning\": \"1.36.0\", \"azureml-contrib-pipeline-steps\": \"1.36.0\", \"azureml-contrib-notebook\": \"1.36.0\", \"azureml-contrib-fairness\": \"1.36.0\", \"azureml-contrib-dataset\": \"1.36.0\", \"azureml-contrib-automl-pipeline-steps\": \"1.36.0\", \"azureml-cli-common\": \"1.36.0\", \"azureml-automl-runtime\": \"1.36.0\", \"azureml-automl-dnn-nlp\": \"1.36.0\", \"azureml-automl-core\": \"1.36.0\", \"azureml-accel-models\": \"1.36.0\"}',\n  '_aml_system_scenario_identification': 'Remote.Parent',\n  'ClientType': 'SDK',\n  'environment_cpu_name': 'AzureML-AutoML',\n  'environment_cpu_label': 'prod',\n  'environment_gpu_name': 'AzureML-AutoML-GPU',\n  'environment_gpu_label': 'prod',\n  'root_attribution': 'automl',\n  'attribution': 'AutoML',\n  'Orchestrator': 'AutoML',\n  'CancelUri': 'https://westeurope.api.azureml.ms/jasmine/v1.0/subscriptions/5e54cdea-5cda-46ba-af31-b1c1b15430e6/resourceGroups/mle-demos/providers/Microsoft.MachineLearningServices/workspaces/mlw-mlops-forecasting/experimentids/1972aace-ba16-460e-ad1b-9450ffac69db/cancel/AutoML_2077c0f4-32af-4b0f-8dd4-f47573c8186d',\n  'azureml.git.repository_uri': 'git@ssh.dev.azure.com:v3/accenture-ai-mle/mlops-forecasting/mlops-forecasting',\n  'mlflow.source.git.repoURL': 'git@ssh.dev.azure.com:v3/accenture-ai-mle/mlops-forecasting/mlops-forecasting',\n  'azureml.git.branch': 'feature/automl',\n  'mlflow.source.git.branch': 'feature/automl',\n  'azureml.git.commit': '800ed9070fe620fe6dbf917a314ede42bf03c7e3',\n  'mlflow.source.git.commit': '800ed9070fe620fe6dbf917a314ede42bf03c7e3',\n  'azureml.git.dirty': 'True',\n  'ClientSdkVersion': '1.37.0',\n  'snapshotId': '00000000-0000-0000-0000-000000000000',\n  'SetupRunId': 'AutoML_2077c0f4-32af-4b0f-8dd4-f47573c8186d_setup',\n  'SetupRunContainerId': 'dcid.AutoML_2077c0f4-32af-4b0f-8dd4-f47573c8186d_setup',\n  'forecasting_target_lags': '[0]',\n  'forecasting_target_rolling_window_size': '0',\n  'forecasting_max_horizon': '30',\n  'forecasting_freq': 'D',\n  'ProblemInfoJsonString': '{\"dataset_num_categorical\": 0, \"is_sparse\": false, \"subsampling\": false, \"has_extra_col\": false, \"dataset_classes\": 213, \"dataset_features\": 11, \"dataset_samples\": 897500, \"single_frequency_class_detected\": false, \"series_column_count\": 2, \"series_count\": 500, \"series_len_min\": 1795, \"series_len_max\": 1795, \"series_len_avg\": 1795.0, \"series_len_perc_25\": 1795.0, \"series_len_perc_50\": 1795.0, \"series_len_perc_75\": 1795.0}',\n  'ModelExplainRunId': 'AutoML_2077c0f4-32af-4b0f-8dd4-f47573c8186d_ModelExplain'},\n 'inputDatasets': [{'dataset': {'id': 'd83eab90-e2f4-4a14-bf0b-8ee79fb35fa6'}, 'consumptionDetails': {'type': 'RunInput', 'inputName': 'training_data', 'mechanism': 'Direct'}}],\n 'outputDatasets': [],\n 'logFiles': {},\n 'submittedBy': 'Kostis, Lida'}"
          },
          "metadata": {}
        }
      ],
      "execution_count": 5,
      "metadata": {
        "jupyter": {
          "source_hidden": false,
          "outputs_hidden": false
        },
        "nteract": {
          "transient": {
            "deleting": false
          }
        },
        "gather": {
          "logged": 1643014035327
        }
      }
    },
    {
      "cell_type": "code",
      "source": [
        "best_run, trained_model = exp_run.get_output()\r\n",
        " \r\n",
        "# Retrieve the best Run \r\n",
        "best_model_name = best_run.properties['model_name']\r\n",
        "\r\n"
      ],
      "outputs": [
        {
          "output_type": "stream",
          "name": "stderr",
          "text": "WARNING:root:The version of the SDK does not match the version the model was trained on.\nWARNING:root:The consistency in the result may not be guaranteed.\nWARNING:root:Package:azureml-automl-core, training version:1.37.0, current version:1.36.0\nPackage:azureml-automl-runtime, training version:1.37.0, current version:1.36.0\nPackage:azureml-core, training version:1.37.0, current version:1.36.0.post2\nPackage:azureml-dataprep, training version:2.25.0, current version:2.24.4\nPackage:azureml-dataprep-rslex, training version:2.1.0, current version:2.0.3\nPackage:azureml-dataset-runtime, training version:1.37.0, current version:1.36.0\nPackage:azureml-defaults, training version:1.37.0, current version:1.36.0\nPackage:azureml-interpret, training version:1.37.0, current version:1.36.0\nPackage:azureml-mlflow, training version:1.37.0, current version:1.36.0\nPackage:azureml-pipeline-core, training version:1.37.0, current version:1.36.0\nPackage:azureml-responsibleai, training version:1.37.0, current version:1.36.0\nPackage:azureml-telemetry, training version:1.37.0, current version:1.36.0\nPackage:azureml-train-automl-client, training version:1.37.0, current version:1.36.0\nPackage:azureml-train-automl-runtime, training version:1.37.0, current version:1.36.0\nPackage:azureml-train-core, training version:1.37.0, current version:1.36.0\nPackage:azureml-train-restclients-hyperdrive, training version:1.37.0, current version:1.36.0\nWARNING:root:Please ensure the version of your local conda dependencies match the version on which your model was trained in order to properly retrieve your model.\n"
        }
      ],
      "execution_count": 6,
      "metadata": {
        "jupyter": {
          "source_hidden": false,
          "outputs_hidden": false
        },
        "nteract": {
          "transient": {
            "deleting": false
          }
        },
        "gather": {
          "logged": 1643014229787
        }
      }
    },
    {
      "cell_type": "code",
      "source": [
        "# Register model\r\n",
        "description = 'AutoML Model trained to forecast the 3-month store item sales demand.'\r\n",
        "tags = None\r\n",
        "model = exp_run.register_model(model_name = \"kaggle-forecasting-model\", description = description, tags = tags)\r\n"
      ],
      "outputs": [],
      "execution_count": 9,
      "metadata": {
        "jupyter": {
          "source_hidden": false,
          "outputs_hidden": false
        },
        "nteract": {
          "transient": {
            "deleting": false
          }
        },
        "gather": {
          "logged": 1643014292468
        }
      }
    }
  ],
  "metadata": {
    "kernelspec": {
      "name": "python3-azureml",
      "language": "python",
      "display_name": "Python 3.6 - AzureML"
    },
    "language_info": {
      "name": "python",
      "version": "3.6.9",
      "mimetype": "text/x-python",
      "codemirror_mode": {
        "name": "ipython",
        "version": 3
      },
      "pygments_lexer": "ipython3",
      "nbconvert_exporter": "python",
      "file_extension": ".py"
    },
    "kernel_info": {
      "name": "python3-azureml"
    },
    "nteract": {
      "version": "nteract-front-end@1.0.0"
    },
    "microsoft": {
      "host": {
        "AzureML": {
          "notebookHasBeenCompleted": true
        }
      }
    }
  },
  "nbformat": 4,
  "nbformat_minor": 2
}